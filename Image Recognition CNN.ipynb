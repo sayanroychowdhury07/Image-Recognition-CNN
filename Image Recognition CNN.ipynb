{
 "cells": [
  {
   "cell_type": "code",
   "execution_count": 1,
   "metadata": {},
   "outputs": [
    {
     "name": "stderr",
     "output_type": "stream",
     "text": [
      "Using TensorFlow backend.\n"
     ]
    }
   ],
   "source": [
    "from keras.datasets import cifar10"
   ]
  },
  {
   "cell_type": "code",
   "execution_count": 6,
   "metadata": {},
   "outputs": [],
   "source": [
    "(x_train,y_train), (x_test, y_test) = cifar10.load_data()"
   ]
  },
  {
   "cell_type": "markdown",
   "metadata": {},
   "source": [
    "The shape of the array tells us that our dataset x_train consists of:\n",
    "50000 images\n",
    "32 pixels in height\n",
    "32 pixels in width\n",
    "3 pixels in depth (corresponding to Red, Green and Blue)"
   ]
  },
  {
   "cell_type": "code",
   "execution_count": 7,
   "metadata": {},
   "outputs": [
    {
     "name": "stdout",
     "output_type": "stream",
     "text": [
      "(50000, 32, 32, 3) (50000, 1)\n"
     ]
    }
   ],
   "source": [
    "print(x_train.shape, y_train.shape)"
   ]
  },
  {
   "cell_type": "code",
   "execution_count": 10,
   "metadata": {},
   "outputs": [
    {
     "name": "stdout",
     "output_type": "stream",
     "text": [
      "[[[ 59  62  63]\n",
      "  [ 43  46  45]\n",
      "  [ 50  48  43]\n",
      "  ...\n",
      "  [158 132 108]\n",
      "  [152 125 102]\n",
      "  [148 124 103]]\n",
      "\n",
      " [[ 16  20  20]\n",
      "  [  0   0   0]\n",
      "  [ 18   8   0]\n",
      "  ...\n",
      "  [123  88  55]\n",
      "  [119  83  50]\n",
      "  [122  87  57]]\n",
      "\n",
      " [[ 25  24  21]\n",
      "  [ 16   7   0]\n",
      "  [ 49  27   8]\n",
      "  ...\n",
      "  [118  84  50]\n",
      "  [120  84  50]\n",
      "  [109  73  42]]\n",
      "\n",
      " ...\n",
      "\n",
      " [[208 170  96]\n",
      "  [201 153  34]\n",
      "  [198 161  26]\n",
      "  ...\n",
      "  [160 133  70]\n",
      "  [ 56  31   7]\n",
      "  [ 53  34  20]]\n",
      "\n",
      " [[180 139  96]\n",
      "  [173 123  42]\n",
      "  [186 144  30]\n",
      "  ...\n",
      "  [184 148  94]\n",
      "  [ 97  62  34]\n",
      "  [ 83  53  34]]\n",
      "\n",
      " [[177 144 116]\n",
      "  [168 129  94]\n",
      "  [179 142  87]\n",
      "  ...\n",
      "  [216 184 140]\n",
      "  [151 118  84]\n",
      "  [123  92  72]]]\n"
     ]
    }
   ],
   "source": [
    "print(x_train[0])"
   ]
  },
  {
   "cell_type": "code",
   "execution_count": 13,
   "metadata": {},
   "outputs": [],
   "source": [
    "import  matplotlib.pyplot as plt\n",
    "%matplotlib inline"
   ]
  },
  {
   "cell_type": "markdown",
   "metadata": {},
   "source": [
    "To print an image"
   ]
  },
  {
   "cell_type": "code",
   "execution_count": 24,
   "metadata": {},
   "outputs": [
    {
     "data": {
      "image/png": "[encoded data removed]",
      "text/plain": [
       "<Figure size 432x288 with 1 Axes>"
      ]
     },
     "metadata": {
      "needs_background": "light"
     },
     "output_type": "display_data"
    }
   ],
   "source": [
    "img = plt.imshow(x_train[0])"
   ]
  },
  {
   "cell_type": "markdown",
   "metadata": {},
   "source": [
    "To print the label"
   ]
  },
  {
   "cell_type": "code",
   "execution_count": 25,
   "metadata": {},
   "outputs": [
    {
     "name": "stdout",
     "output_type": "stream",
     "text": [
      "the label is: [9]\n"
     ]
    }
   ],
   "source": [
    "print(\"the label is:\", y_train[1])"
   ]
  },
  {
   "cell_type": "markdown",
   "metadata": {},
   "source": [
    "10 different classes so 10 different labels."
   ]
  },
  {
   "cell_type": "code",
   "execution_count": 28,
   "metadata": {},
   "outputs": [],
   "source": [
    "import keras\n",
    "y_train_one_hot = keras.utils.to_categorical(y_train,10)\n",
    "y_test_one_hot = keras.utils.to_categorical(y_test,10)"
   ]
  },
  {
   "cell_type": "code",
   "execution_count": 30,
   "metadata": {},
   "outputs": [
    {
     "data": {
      "text/plain": [
       "array([0., 0., 0., 0., 0., 0., 0., 0., 0., 1.], dtype=float32)"
      ]
     },
     "execution_count": 30,
     "metadata": {},
     "output_type": "execute_result"
    }
   ],
   "source": [
    "y_train_one_hot[1]"
   ]
  },
  {
   "cell_type": "code",
   "execution_count": 33,
   "metadata": {},
   "outputs": [],
   "source": [
    "x_train = x_train.astype('float32')\n",
    "x_test = x_test.astype('float32')\n",
    "x_train = x_train/255\n",
    "x_test = x_test/255"
   ]
  },
  {
   "cell_type": "code",
   "execution_count": 34,
   "metadata": {},
   "outputs": [
    {
     "name": "stdout",
     "output_type": "stream",
     "text": [
      "[[[0.23137255 0.24313726 0.24705882]\n",
      "  [0.16862746 0.18039216 0.1764706 ]\n",
      "  [0.19607843 0.1882353  0.16862746]\n",
      "  ...\n",
      "  [0.61960787 0.5176471  0.42352942]\n",
      "  [0.59607846 0.49019608 0.4       ]\n",
      "  [0.5803922  0.4862745  0.40392157]]\n",
      "\n",
      " [[0.0627451  0.07843138 0.07843138]\n",
      "  [0.         0.         0.        ]\n",
      "  [0.07058824 0.03137255 0.        ]\n",
      "  ...\n",
      "  [0.48235294 0.34509805 0.21568628]\n",
      "  [0.46666667 0.3254902  0.19607843]\n",
      "  [0.47843137 0.34117648 0.22352941]]\n",
      "\n",
      " [[0.09803922 0.09411765 0.08235294]\n",
      "  [0.0627451  0.02745098 0.        ]\n",
      "  [0.19215687 0.10588235 0.03137255]\n",
      "  ...\n",
      "  [0.4627451  0.32941177 0.19607843]\n",
      "  [0.47058824 0.32941177 0.19607843]\n",
      "  [0.42745098 0.28627452 0.16470589]]\n",
      "\n",
      " ...\n",
      "\n",
      " [[0.8156863  0.6666667  0.3764706 ]\n",
      "  [0.7882353  0.6        0.13333334]\n",
      "  [0.7764706  0.6313726  0.10196079]\n",
      "  ...\n",
      "  [0.627451   0.52156866 0.27450982]\n",
      "  [0.21960784 0.12156863 0.02745098]\n",
      "  [0.20784314 0.13333334 0.07843138]]\n",
      "\n",
      " [[0.7058824  0.54509807 0.3764706 ]\n",
      "  [0.6784314  0.48235294 0.16470589]\n",
      "  [0.7294118  0.5647059  0.11764706]\n",
      "  ...\n",
      "  [0.72156864 0.5803922  0.36862746]\n",
      "  [0.38039216 0.24313726 0.13333334]\n",
      "  [0.3254902  0.20784314 0.13333334]]\n",
      "\n",
      " [[0.69411767 0.5647059  0.45490196]\n",
      "  [0.65882355 0.5058824  0.36862746]\n",
      "  [0.7019608  0.5568628  0.34117648]\n",
      "  ...\n",
      "  [0.84705883 0.72156864 0.54901963]\n",
      "  [0.5921569  0.4627451  0.32941177]\n",
      "  [0.48235294 0.36078432 0.28235295]]]\n"
     ]
    }
   ],
   "source": [
    "print(x_train[0])"
   ]
  },
  {
   "cell_type": "markdown",
   "metadata": {},
   "source": [
    "BUILDING AND TRAINING THE CNN\n",
    "\n",
    "SETTING UP THE ARCHITECTURE"
   ]
  },
  {
   "cell_type": "code",
   "execution_count": 39,
   "metadata": {},
   "outputs": [],
   "source": [
    "from keras import Sequential\n",
    "from keras.layers import Dense,  Dropout, Flatten, Conv2D, MaxPooling2D"
   ]
  },
  {
   "cell_type": "code",
   "execution_count": 40,
   "metadata": {},
   "outputs": [],
   "source": [
    "model = Sequential()"
   ]
  },
  {
   "cell_type": "code",
   "execution_count": 42,
   "metadata": {},
   "outputs": [],
   "source": [
    "model.add(Conv2D(32,(3,3), activation = 'relu', padding =  'same', input_shape = (32,32,3)))"
   ]
  },
  {
   "cell_type": "markdown",
   "metadata": {},
   "source": [
    "The first number 32 refers to the depth. The next pair of numbers (3,3) refer to the filter width and size. Then, we specify activation which is ‘relu’ and padding which is ‘same’. Notice that we did not specify stride. This is because stride=1 is a default setting, and unless we want to change this setting, we need not specify it."
   ]
  },
  {
   "cell_type": "code",
   "execution_count": 43,
   "metadata": {},
   "outputs": [],
   "source": [
    "model.add(Conv2D(32,(3,3), activation = 'relu', padding =  'same'))"
   ]
  },
  {
   "cell_type": "code",
   "execution_count": 44,
   "metadata": {},
   "outputs": [],
   "source": [
    "model.add(MaxPooling2D(pool_size=(2,2)))"
   ]
  },
  {
   "cell_type": "code",
   "execution_count": 45,
   "metadata": {},
   "outputs": [],
   "source": [
    "model.add(Dropout(0.25))"
   ]
  },
  {
   "cell_type": "code",
   "execution_count": 46,
   "metadata": {},
   "outputs": [],
   "source": [
    "model.add(Conv2D(64, (3, 3), activation='relu', padding='same'))\n",
    "model.add(Conv2D(64, (3, 3), activation='relu', padding='same'))\n",
    "model.add(MaxPooling2D(pool_size=(2, 2)))\n",
    "model.add(Dropout(0.25))"
   ]
  },
  {
   "cell_type": "markdown",
   "metadata": {},
   "source": [
    "However, at this point, our neurons are spatially arranged in a cube-like format rather than in just one row. To make this cube-like format of neurons into one row, we have to first flatten it. We do so by adding a Flatten layer:"
   ]
  },
  {
   "cell_type": "code",
   "execution_count": 47,
   "metadata": {},
   "outputs": [],
   "source": [
    "model.add(Flatten())"
   ]
  },
  {
   "cell_type": "code",
   "execution_count": 48,
   "metadata": {},
   "outputs": [],
   "source": [
    "model.add(Dense(512, activation='relu'))"
   ]
  },
  {
   "cell_type": "code",
   "execution_count": 49,
   "metadata": {},
   "outputs": [],
   "source": [
    "model.add(Dropout(0.5))"
   ]
  },
  {
   "cell_type": "code",
   "execution_count": 50,
   "metadata": {},
   "outputs": [],
   "source": [
    "model.add(Dense(10, activation='softmax'))"
   ]
  },
  {
   "cell_type": "code",
   "execution_count": 51,
   "metadata": {},
   "outputs": [
    {
     "name": "stdout",
     "output_type": "stream",
     "text": [
      "Model: \"sequential_2\"\n",
      "_________________________________________________________________\n",
      "Layer (type)                 Output Shape              Param #   \n",
      "=================================================================\n",
      "conv2d_3 (Conv2D)            (None, 32, 32, 32)        896       \n",
      "_________________________________________________________________\n",
      "conv2d_4 (Conv2D)            (None, 32, 32, 32)        9248      \n",
      "_________________________________________________________________\n",
      "max_pooling2d_1 (MaxPooling2 (None, 16, 16, 32)        0         \n",
      "_________________________________________________________________\n",
      "dropout_1 (Dropout)          (None, 16, 16, 32)        0         \n",
      "_________________________________________________________________\n",
      "conv2d_5 (Conv2D)            (None, 16, 16, 64)        18496     \n",
      "_________________________________________________________________\n",
      "conv2d_6 (Conv2D)            (None, 16, 16, 64)        36928     \n",
      "_________________________________________________________________\n",
      "max_pooling2d_2 (MaxPooling2 (None, 8, 8, 64)          0         \n",
      "_________________________________________________________________\n",
      "dropout_2 (Dropout)          (None, 8, 8, 64)          0         \n",
      "_________________________________________________________________\n",
      "flatten_1 (Flatten)          (None, 4096)              0         \n",
      "_________________________________________________________________\n",
      "dense_1 (Dense)              (None, 512)               2097664   \n",
      "_________________________________________________________________\n",
      "dropout_3 (Dropout)          (None, 512)               0         \n",
      "_________________________________________________________________\n",
      "dense_2 (Dense)              (None, 10)                5130      \n",
      "=================================================================\n",
      "Total params: 2,168,362\n",
      "Trainable params: 2,168,362\n",
      "Non-trainable params: 0\n",
      "_________________________________________________________________\n"
     ]
    }
   ],
   "source": [
    "model.summary()"
   ]
  },
  {
   "cell_type": "markdown",
   "metadata": {},
   "source": [
    "Model Created now time to compile"
   ]
  },
  {
   "cell_type": "code",
   "execution_count": 52,
   "metadata": {},
   "outputs": [],
   "source": [
    "model.compile(loss='categorical_crossentropy', optimizer = 'adam', metrics=['accuracy'])"
   ]
  },
  {
   "cell_type": "code",
   "execution_count": 53,
   "metadata": {},
   "outputs": [
    {
     "name": "stdout",
     "output_type": "stream",
     "text": [
      "Train on 40000 samples, validate on 10000 samples\n",
      "Epoch 1/20\n",
      "40000/40000 [==============================] - 131s 3ms/step - loss: 1.5393 - accuracy: 0.4353 - val_loss: 1.1886 - val_accuracy: 0.5709\n",
      "Epoch 2/20\n",
      "40000/40000 [==============================] - 135s 3ms/step - loss: 1.1383 - accuracy: 0.5959 - val_loss: 0.9777 - val_accuracy: 0.6526\n",
      "Epoch 3/20\n",
      "40000/40000 [==============================] - 147s 4ms/step - loss: 0.9814 - accuracy: 0.6522 - val_loss: 0.8586 - val_accuracy: 0.6992\n",
      "Epoch 4/20\n",
      "40000/40000 [==============================] - 147s 4ms/step - loss: 0.8786 - accuracy: 0.6908 - val_loss: 0.8358 - val_accuracy: 0.7091\n",
      "Epoch 5/20\n",
      "40000/40000 [==============================] - 141s 4ms/step - loss: 0.8078 - accuracy: 0.7147 - val_loss: 0.7538 - val_accuracy: 0.7377\n",
      "Epoch 6/20\n",
      "40000/40000 [==============================] - 143s 4ms/step - loss: 0.7625 - accuracy: 0.7307 - val_loss: 0.7335 - val_accuracy: 0.7426\n",
      "Epoch 7/20\n",
      "40000/40000 [==============================] - 196s 5ms/step - loss: 0.7117 - accuracy: 0.7469 - val_loss: 0.7290 - val_accuracy: 0.7479\n",
      "Epoch 8/20\n",
      "40000/40000 [==============================] - 193s 5ms/step - loss: 0.6692 - accuracy: 0.7646 - val_loss: 0.7249 - val_accuracy: 0.7507\n",
      "Epoch 9/20\n",
      "40000/40000 [==============================] - 196s 5ms/step - loss: 0.6383 - accuracy: 0.7758 - val_loss: 0.6686 - val_accuracy: 0.7741\n",
      "Epoch 10/20\n",
      "40000/40000 [==============================] - 188s 5ms/step - loss: 0.6084 - accuracy: 0.7843 - val_loss: 0.6859 - val_accuracy: 0.7666\n",
      "Epoch 11/20\n",
      "40000/40000 [==============================] - 192s 5ms/step - loss: 0.5796 - accuracy: 0.7959 - val_loss: 0.6863 - val_accuracy: 0.7687\n",
      "Epoch 12/20\n",
      "40000/40000 [==============================] - 191s 5ms/step - loss: 0.5552 - accuracy: 0.8029 - val_loss: 0.6585 - val_accuracy: 0.7796\n",
      "Epoch 13/20\n",
      "40000/40000 [==============================] - 179s 4ms/step - loss: 0.5414 - accuracy: 0.8100 - val_loss: 0.6732 - val_accuracy: 0.7733\n",
      "Epoch 14/20\n",
      "40000/40000 [==============================] - 178s 4ms/step - loss: 0.5150 - accuracy: 0.8177 - val_loss: 0.6586 - val_accuracy: 0.7785\n",
      "Epoch 15/20\n",
      "40000/40000 [==============================] - 177s 4ms/step - loss: 0.5012 - accuracy: 0.8224 - val_loss: 0.6566 - val_accuracy: 0.7785\n",
      "Epoch 16/20\n",
      "40000/40000 [==============================] - 179s 4ms/step - loss: 0.4777 - accuracy: 0.8284 - val_loss: 0.6907 - val_accuracy: 0.7761\n",
      "Epoch 17/20\n",
      "40000/40000 [==============================] - 190s 5ms/step - loss: 0.4634 - accuracy: 0.8382 - val_loss: 0.7082 - val_accuracy: 0.7757\n",
      "Epoch 18/20\n",
      "40000/40000 [==============================] - 179s 4ms/step - loss: 0.4576 - accuracy: 0.8385 - val_loss: 0.6818 - val_accuracy: 0.7804\n",
      "Epoch 19/20\n",
      "40000/40000 [==============================] - 175s 4ms/step - loss: 0.4431 - accuracy: 0.8446 - val_loss: 0.6605 - val_accuracy: 0.7866\n",
      "Epoch 20/20\n",
      "40000/40000 [==============================] - 175s 4ms/step - loss: 0.4337 - accuracy: 0.8473 - val_loss: 0.6744 - val_accuracy: 0.7854\n"
     ]
    }
   ],
   "source": [
    "hist = model.fit(x_train,y_train_one_hot, batch_size = 32, epochs=20, validation_split = 0.2)"
   ]
  },
  {
   "cell_type": "code",
   "execution_count": 54,
   "metadata": {},
   "outputs": [
    {
     "data": {
      "image/png": "[encoded data removed]",
      "text/plain": [
       "<Figure size 432x288 with 1 Axes>"
      ]
     },
     "metadata": {
      "needs_background": "light"
     },
     "output_type": "display_data"
    }
   ],
   "source": [
    "plt.plot(hist.history['loss'])\n",
    "plt.plot(hist.history['val_loss'])\n",
    "plt.title('Model loss')\n",
    "plt.ylabel('Loss')\n",
    "plt.xlabel('Epoch')\n",
    "plt.legend(['Train', 'Val'], loc='upper right')\n",
    "plt.show()"
   ]
  },
  {
   "cell_type": "code",
   "execution_count": 56,
   "metadata": {},
   "outputs": [
    {
     "data": {
      "image/png": "[encoded data removed]",
      "text/plain": [
       "<Figure size 432x288 with 1 Axes>"
      ]
     },
     "metadata": {
      "needs_background": "light"
     },
     "output_type": "display_data"
    }
   ],
   "source": [
    "plt.plot(hist.history['accuracy'])\n",
    "plt.plot(hist.history['val_accuracy'])\n",
    "plt.title('Model accuracy')\n",
    "plt.ylabel('Accuracy')\n",
    "plt.xlabel('Epoch')\n",
    "plt.legend(['Train', 'Val'], loc='lower right')\n",
    "plt.show()"
   ]
  },
  {
   "cell_type": "code",
   "execution_count": 57,
   "metadata": {},
   "outputs": [
    {
     "name": "stdout",
     "output_type": "stream",
     "text": [
      "10000/10000 [==============================] - 11s 1ms/step\n"
     ]
    },
    {
     "data": {
      "text/plain": [
       "0.7760999798774719"
      ]
     },
     "execution_count": 57,
     "metadata": {},
     "output_type": "execute_result"
    }
   ],
   "source": [
    "model.evaluate(x_test, y_test_one_hot)[1]"
   ]
  },
  {
   "cell_type": "code",
   "execution_count": 60,
   "metadata": {},
   "outputs": [],
   "source": [
    "model.save('my_cifar10_model.h5')"
   ]
  },
  {
   "cell_type": "code",
   "execution_count": 61,
   "metadata": {},
   "outputs": [],
   "source": [
    "from keras.models import load_model\n",
    "model = load_model('my_cifar10_model.h5')"
   ]
  },
  {
   "cell_type": "code",
   "execution_count": null,
   "metadata": {},
   "outputs": [],
   "source": []
  }
 ],
 "metadata": {
  "kernelspec": {
   "display_name": "Python 3",
   "language": "python",
   "name": "python3"
  }
 },
 "nbformat": 4,
 "nbformat_minor": 4
}
